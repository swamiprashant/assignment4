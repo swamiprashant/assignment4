{
 "cells": [
  {
   "cell_type": "code",
   "execution_count": 1,
   "id": "7d3b028b-bb69-4369-970f-5ed21aec2271",
   "metadata": {},
   "outputs": [],
   "source": [
    "# Print number from 1 to 5 using a while loop."
   ]
  },
  {
   "cell_type": "code",
   "execution_count": 1,
   "id": "4f7dfa52-da5e-4c05-b321-7ae819868f08",
   "metadata": {},
   "outputs": [
    {
     "name": "stdout",
     "output_type": "stream",
     "text": [
      "1\n",
      "2\n",
      "3\n",
      "4\n",
      "5\n"
     ]
    }
   ],
   "source": [
    "range_2 = 1\n",
    "i = 0\n",
    "while range_2 <= 5:\n",
    "    if i in range(1, 5):\n",
    "        range_2 += 1\n",
    "        continue\n",
    "    print(range_2)\n",
    "    range_2 += 1"
   ]
  },
  {
   "cell_type": "code",
   "execution_count": null,
   "id": "cec90e84-704c-42b9-a457-2e94f04fb0ed",
   "metadata": {},
   "outputs": [],
   "source": [
    "# Calclate the summ of number from 1 to 10 using a while loop."
   ]
  },
  {
   "cell_type": "code",
   "execution_count": 2,
   "id": "1ab53fc5-5931-47fb-9f00-5d3740879692",
   "metadata": {},
   "outputs": [
    {
     "name": "stdout",
     "output_type": "stream",
     "text": [
      "55\n"
     ]
    }
   ],
   "source": [
    "num = 1\n",
    "i = 0\n",
    "while num <= 10:\n",
    "    i += num\n",
    "    num+=1\n",
    "print(i)"
   ]
  },
  {
   "cell_type": "code",
   "execution_count": 3,
   "id": "01d43fc2-5d50-430f-a7b2-99a82609993c",
   "metadata": {},
   "outputs": [],
   "source": [
    "# Calclate the factorial of a number using a for loop."
   ]
  },
  {
   "cell_type": "code",
   "execution_count": 2,
   "id": "3d8e5252-0020-4ddf-a232-54f2c2f6bcba",
   "metadata": {},
   "outputs": [
    {
     "name": "stdout",
     "output_type": "stream",
     "text": [
      "720\n",
      "None\n"
     ]
    }
   ],
   "source": [
    "def factorial(n):\n",
    "    res = 1\n",
    "    for i in range(1, n+1):\n",
    "        res *=i\n",
    "    print(res)\n",
    "num = 6\n",
    "print(factorial(num))"
   ]
  },
  {
   "cell_type": "code",
   "execution_count": null,
   "id": "e3cc5288-20b7-4a28-896c-011d28896d9a",
   "metadata": {},
   "outputs": [],
   "source": [
    "# Cont the number of vowel in a string using a for loop."
   ]
  },
  {
   "cell_type": "code",
   "execution_count": 1,
   "id": "d20c2c68-3347-4429-9d8f-4b3b96b17670",
   "metadata": {},
   "outputs": [
    {
     "name": "stdout",
     "output_type": "stream",
     "text": [
      "3\n"
     ]
    }
   ],
   "source": [
    "def count_vowels(str):\n",
    "    vowels = \"aeiouAEIOU\"\n",
    "    count = 0\n",
    "    for char in str:\n",
    "        if char in vowels:\n",
    "            count += 1\n",
    "    return count\n",
    "str_1 = \"welcome\"\n",
    "print(count_vowels(str_1))\n"
   ]
  },
  {
   "cell_type": "code",
   "execution_count": null,
   "id": "ae1d3809-fb90-4709-9dde-db82a9945364",
   "metadata": {},
   "outputs": [],
   "source": [
    "# Print a pattern using nested loop."
   ]
  },
  {
   "cell_type": "code",
   "execution_count": 2,
   "id": "9f1346d6-6249-48fa-b169-59cdc37eed64",
   "metadata": {},
   "outputs": [
    {
     "name": "stdout",
     "output_type": "stream",
     "text": [
      "*\n",
      "**\n",
      "***\n",
      "****\n",
      "*****\n",
      "******\n",
      "*******\n",
      "********\n"
     ]
    }
   ],
   "source": [
    "rows = 8\n",
    "for i in range(0, rows):\n",
    "    for j in range(0, i + 1):\n",
    "        print('*', end='')\n",
    "    print(\"\\r\")"
   ]
  },
  {
   "cell_type": "code",
   "execution_count": 3,
   "id": "60995b64-3f3d-47b6-a7fb-ae6bb5c972ab",
   "metadata": {},
   "outputs": [],
   "source": [
    "# Generate a multiplication table using neted loop."
   ]
  },
  {
   "cell_type": "code",
   "execution_count": null,
   "id": "cef75868-4697-47e6-ac43-b28f4f021bbf",
   "metadata": {},
   "outputs": [],
   "source": [
    "def multiplication_1(n):\n",
    "    for i in range(1, 5):\n",
    "        for j in range(1, 6):\n",
    "            print(i*j)\n",
    "            "
   ]
  }
 ],
 "metadata": {
  "kernelspec": {
   "display_name": "Python 3 (ipykernel)",
   "language": "python",
   "name": "python3"
  },
  "language_info": {
   "codemirror_mode": {
    "name": "ipython",
    "version": 3
   },
   "file_extension": ".py",
   "mimetype": "text/x-python",
   "name": "python",
   "nbconvert_exporter": "python",
   "pygments_lexer": "ipython3",
   "version": "3.10.8"
  }
 },
 "nbformat": 4,
 "nbformat_minor": 5
}
